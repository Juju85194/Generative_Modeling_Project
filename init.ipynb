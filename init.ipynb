{
 "cells": [
  {
   "cell_type": "code",
   "execution_count": null,
   "metadata": {},
   "outputs": [],
   "source": [
    "# run the 2 commands to instanciate the git"
   ]
  },
  {
   "cell_type": "code",
   "execution_count": 2,
   "metadata": {},
   "outputs": [
    {
     "ename": "OSError",
     "evalue": "out of pty devices",
     "output_type": "error",
     "traceback": [
      "\u001b[31m---------------------------------------------------------------------------\u001b[39m",
      "\u001b[31mOSError\u001b[39m                                   Traceback (most recent call last)",
      "\u001b[36mCell\u001b[39m\u001b[36m \u001b[39m\u001b[32mIn[2]\u001b[39m\u001b[32m, line 1\u001b[39m\n\u001b[32m----> \u001b[39m\u001b[32m1\u001b[39m \u001b[43mget_ipython\u001b[49m\u001b[43m(\u001b[49m\u001b[43m)\u001b[49m\u001b[43m.\u001b[49m\u001b[43mrun_line_magic\u001b[49m\u001b[43m(\u001b[49m\u001b[33;43m'\u001b[39;49m\u001b[33;43mpip\u001b[39;49m\u001b[33;43m'\u001b[39;49m\u001b[43m,\u001b[49m\u001b[43m \u001b[49m\u001b[33;43m'\u001b[39;49m\u001b[33;43minstall -e .\u001b[39;49m\u001b[33;43m'\u001b[39;49m\u001b[43m)\u001b[49m\n",
      "\u001b[36mFile \u001b[39m\u001b[32m~/work/.venv/lib/python3.12/site-packages/IPython/core/interactiveshell.py:2481\u001b[39m, in \u001b[36mInteractiveShell.run_line_magic\u001b[39m\u001b[34m(self, magic_name, line, _stack_depth)\u001b[39m\n\u001b[32m   2479\u001b[39m     kwargs[\u001b[33m'\u001b[39m\u001b[33mlocal_ns\u001b[39m\u001b[33m'\u001b[39m] = \u001b[38;5;28mself\u001b[39m.get_local_scope(stack_depth)\n\u001b[32m   2480\u001b[39m \u001b[38;5;28;01mwith\u001b[39;00m \u001b[38;5;28mself\u001b[39m.builtin_trap:\n\u001b[32m-> \u001b[39m\u001b[32m2481\u001b[39m     result = \u001b[43mfn\u001b[49m\u001b[43m(\u001b[49m\u001b[43m*\u001b[49m\u001b[43margs\u001b[49m\u001b[43m,\u001b[49m\u001b[43m \u001b[49m\u001b[43m*\u001b[49m\u001b[43m*\u001b[49m\u001b[43mkwargs\u001b[49m\u001b[43m)\u001b[49m\n\u001b[32m   2483\u001b[39m \u001b[38;5;66;03m# The code below prevents the output from being displayed\u001b[39;00m\n\u001b[32m   2484\u001b[39m \u001b[38;5;66;03m# when using magics with decorator @output_can_be_silenced\u001b[39;00m\n\u001b[32m   2485\u001b[39m \u001b[38;5;66;03m# when the last Python token in the expression is a ';'.\u001b[39;00m\n\u001b[32m   2486\u001b[39m \u001b[38;5;28;01mif\u001b[39;00m \u001b[38;5;28mgetattr\u001b[39m(fn, magic.MAGIC_OUTPUT_CAN_BE_SILENCED, \u001b[38;5;28;01mFalse\u001b[39;00m):\n",
      "\u001b[36mFile \u001b[39m\u001b[32m~/work/.venv/lib/python3.12/site-packages/IPython/core/magics/packaging.py:105\u001b[39m, in \u001b[36mPackagingMagics.pip\u001b[39m\u001b[34m(self, line)\u001b[39m\n\u001b[32m    102\u001b[39m \u001b[38;5;28;01melse\u001b[39;00m:\n\u001b[32m    103\u001b[39m     python = shlex.quote(python)\n\u001b[32m--> \u001b[39m\u001b[32m105\u001b[39m \u001b[38;5;28;43mself\u001b[39;49m\u001b[43m.\u001b[49m\u001b[43mshell\u001b[49m\u001b[43m.\u001b[49m\u001b[43msystem\u001b[49m\u001b[43m(\u001b[49m\u001b[33;43m\"\u001b[39;49m\u001b[33;43m \u001b[39;49m\u001b[33;43m\"\u001b[39;49m\u001b[43m.\u001b[49m\u001b[43mjoin\u001b[49m\u001b[43m(\u001b[49m\u001b[43m[\u001b[49m\u001b[43mpython\u001b[49m\u001b[43m,\u001b[49m\u001b[43m \u001b[49m\u001b[33;43m\"\u001b[39;49m\u001b[33;43m-m\u001b[39;49m\u001b[33;43m\"\u001b[39;49m\u001b[43m,\u001b[49m\u001b[43m \u001b[49m\u001b[33;43m\"\u001b[39;49m\u001b[33;43mpip\u001b[39;49m\u001b[33;43m\"\u001b[39;49m\u001b[43m,\u001b[49m\u001b[43m \u001b[49m\u001b[43mline\u001b[49m\u001b[43m]\u001b[49m\u001b[43m)\u001b[49m\u001b[43m)\u001b[49m\n\u001b[32m    107\u001b[39m \u001b[38;5;28mprint\u001b[39m(\u001b[33m\"\u001b[39m\u001b[33mNote: you may need to restart the kernel to use updated packages.\u001b[39m\u001b[33m\"\u001b[39m)\n",
      "\u001b[36mFile \u001b[39m\u001b[32m~/work/.venv/lib/python3.12/site-packages/ipykernel/zmqshell.py:657\u001b[39m, in \u001b[36mZMQInteractiveShell.system_piped\u001b[39m\u001b[34m(self, cmd)\u001b[39m\n\u001b[32m    655\u001b[39m         \u001b[38;5;28mself\u001b[39m.user_ns[\u001b[33m\"\u001b[39m\u001b[33m_exit_code\u001b[39m\u001b[33m\"\u001b[39m] = system(cmd)\n\u001b[32m    656\u001b[39m \u001b[38;5;28;01melse\u001b[39;00m:\n\u001b[32m--> \u001b[39m\u001b[32m657\u001b[39m     \u001b[38;5;28mself\u001b[39m.user_ns[\u001b[33m\"\u001b[39m\u001b[33m_exit_code\u001b[39m\u001b[33m\"\u001b[39m] = \u001b[43msystem\u001b[49m\u001b[43m(\u001b[49m\u001b[38;5;28;43mself\u001b[39;49m\u001b[43m.\u001b[49m\u001b[43mvar_expand\u001b[49m\u001b[43m(\u001b[49m\u001b[43mcmd\u001b[49m\u001b[43m,\u001b[49m\u001b[43m \u001b[49m\u001b[43mdepth\u001b[49m\u001b[43m=\u001b[49m\u001b[32;43m1\u001b[39;49m\u001b[43m)\u001b[49m\u001b[43m)\u001b[49m\n",
      "\u001b[36mFile \u001b[39m\u001b[32m~/work/.venv/lib/python3.12/site-packages/IPython/utils/_process_posix.py:125\u001b[39m, in \u001b[36mProcessHandler.system\u001b[39m\u001b[34m(self, cmd)\u001b[39m\n\u001b[32m    123\u001b[39m     child = pexpect.spawnb(\u001b[38;5;28mself\u001b[39m.sh, args=[\u001b[33m'\u001b[39m\u001b[33m-c\u001b[39m\u001b[33m'\u001b[39m, cmd]) \u001b[38;5;66;03m# Pexpect-U\u001b[39;00m\n\u001b[32m    124\u001b[39m \u001b[38;5;28;01melse\u001b[39;00m:\n\u001b[32m--> \u001b[39m\u001b[32m125\u001b[39m     child = \u001b[43mpexpect\u001b[49m\u001b[43m.\u001b[49m\u001b[43mspawn\u001b[49m\u001b[43m(\u001b[49m\u001b[38;5;28;43mself\u001b[39;49m\u001b[43m.\u001b[49m\u001b[43msh\u001b[49m\u001b[43m,\u001b[49m\u001b[43m \u001b[49m\u001b[43margs\u001b[49m\u001b[43m=\u001b[49m\u001b[43m[\u001b[49m\u001b[33;43m'\u001b[39;49m\u001b[33;43m-c\u001b[39;49m\u001b[33;43m'\u001b[39;49m\u001b[43m,\u001b[49m\u001b[43m \u001b[49m\u001b[43mcmd\u001b[49m\u001b[43m]\u001b[49m\u001b[43m)\u001b[49m  \u001b[38;5;66;03m# Vanilla Pexpect\u001b[39;00m\n\u001b[32m    126\u001b[39m flush = sys.stdout.flush\n\u001b[32m    127\u001b[39m \u001b[38;5;28;01mwhile\u001b[39;00m \u001b[38;5;28;01mTrue\u001b[39;00m:\n\u001b[32m    128\u001b[39m     \u001b[38;5;66;03m# res is the index of the pattern that caused the match, so we\u001b[39;00m\n\u001b[32m    129\u001b[39m     \u001b[38;5;66;03m# know whether we've finished (if we matched EOF) or not\u001b[39;00m\n",
      "\u001b[36mFile \u001b[39m\u001b[32m~/work/.venv/lib/python3.12/site-packages/pexpect/pty_spawn.py:205\u001b[39m, in \u001b[36mspawn.__init__\u001b[39m\u001b[34m(self, command, args, timeout, maxread, searchwindowsize, logfile, cwd, env, ignore_sighup, echo, preexec_fn, encoding, codec_errors, dimensions, use_poll)\u001b[39m\n\u001b[32m    203\u001b[39m     \u001b[38;5;28mself\u001b[39m.name = \u001b[33m'\u001b[39m\u001b[33m<pexpect factory incomplete>\u001b[39m\u001b[33m'\u001b[39m\n\u001b[32m    204\u001b[39m \u001b[38;5;28;01melse\u001b[39;00m:\n\u001b[32m--> \u001b[39m\u001b[32m205\u001b[39m     \u001b[38;5;28;43mself\u001b[39;49m\u001b[43m.\u001b[49m\u001b[43m_spawn\u001b[49m\u001b[43m(\u001b[49m\u001b[43mcommand\u001b[49m\u001b[43m,\u001b[49m\u001b[43m \u001b[49m\u001b[43margs\u001b[49m\u001b[43m,\u001b[49m\u001b[43m \u001b[49m\u001b[43mpreexec_fn\u001b[49m\u001b[43m,\u001b[49m\u001b[43m \u001b[49m\u001b[43mdimensions\u001b[49m\u001b[43m)\u001b[49m\n\u001b[32m    206\u001b[39m \u001b[38;5;28mself\u001b[39m.use_poll = use_poll\n",
      "\u001b[36mFile \u001b[39m\u001b[32m~/work/.venv/lib/python3.12/site-packages/pexpect/pty_spawn.py:303\u001b[39m, in \u001b[36mspawn._spawn\u001b[39m\u001b[34m(self, command, args, preexec_fn, dimensions)\u001b[39m\n\u001b[32m    298\u001b[39m \u001b[38;5;28;01mif\u001b[39;00m \u001b[38;5;28mself\u001b[39m.encoding \u001b[38;5;129;01mis\u001b[39;00m \u001b[38;5;129;01mnot\u001b[39;00m \u001b[38;5;28;01mNone\u001b[39;00m:\n\u001b[32m    299\u001b[39m     \u001b[38;5;66;03m# Encode command line using the specified encoding\u001b[39;00m\n\u001b[32m    300\u001b[39m     \u001b[38;5;28mself\u001b[39m.args = [a \u001b[38;5;28;01mif\u001b[39;00m \u001b[38;5;28misinstance\u001b[39m(a, \u001b[38;5;28mbytes\u001b[39m) \u001b[38;5;28;01melse\u001b[39;00m a.encode(\u001b[38;5;28mself\u001b[39m.encoding)\n\u001b[32m    301\u001b[39m                  \u001b[38;5;28;01mfor\u001b[39;00m a \u001b[38;5;129;01min\u001b[39;00m \u001b[38;5;28mself\u001b[39m.args]\n\u001b[32m--> \u001b[39m\u001b[32m303\u001b[39m \u001b[38;5;28mself\u001b[39m.ptyproc = \u001b[38;5;28;43mself\u001b[39;49m\u001b[43m.\u001b[49m\u001b[43m_spawnpty\u001b[49m\u001b[43m(\u001b[49m\u001b[38;5;28;43mself\u001b[39;49m\u001b[43m.\u001b[49m\u001b[43margs\u001b[49m\u001b[43m,\u001b[49m\u001b[43m \u001b[49m\u001b[43menv\u001b[49m\u001b[43m=\u001b[49m\u001b[38;5;28;43mself\u001b[39;49m\u001b[43m.\u001b[49m\u001b[43menv\u001b[49m\u001b[43m,\u001b[49m\n\u001b[32m    304\u001b[39m \u001b[43m                             \u001b[49m\u001b[43mcwd\u001b[49m\u001b[43m=\u001b[49m\u001b[38;5;28;43mself\u001b[39;49m\u001b[43m.\u001b[49m\u001b[43mcwd\u001b[49m\u001b[43m,\u001b[49m\u001b[43m \u001b[49m\u001b[43m*\u001b[49m\u001b[43m*\u001b[49m\u001b[43mkwargs\u001b[49m\u001b[43m)\u001b[49m\n\u001b[32m    306\u001b[39m \u001b[38;5;28mself\u001b[39m.pid = \u001b[38;5;28mself\u001b[39m.ptyproc.pid\n\u001b[32m    307\u001b[39m \u001b[38;5;28mself\u001b[39m.child_fd = \u001b[38;5;28mself\u001b[39m.ptyproc.fd\n",
      "\u001b[36mFile \u001b[39m\u001b[32m~/work/.venv/lib/python3.12/site-packages/pexpect/pty_spawn.py:315\u001b[39m, in \u001b[36mspawn._spawnpty\u001b[39m\u001b[34m(self, args, **kwargs)\u001b[39m\n\u001b[32m    313\u001b[39m \u001b[38;5;28;01mdef\u001b[39;00m\u001b[38;5;250m \u001b[39m\u001b[34m_spawnpty\u001b[39m(\u001b[38;5;28mself\u001b[39m, args, **kwargs):\n\u001b[32m    314\u001b[39m \u001b[38;5;250m    \u001b[39m\u001b[33;03m'''Spawn a pty and return an instance of PtyProcess.'''\u001b[39;00m\n\u001b[32m--> \u001b[39m\u001b[32m315\u001b[39m     \u001b[38;5;28;01mreturn\u001b[39;00m \u001b[43mptyprocess\u001b[49m\u001b[43m.\u001b[49m\u001b[43mPtyProcess\u001b[49m\u001b[43m.\u001b[49m\u001b[43mspawn\u001b[49m\u001b[43m(\u001b[49m\u001b[43margs\u001b[49m\u001b[43m,\u001b[49m\u001b[43m \u001b[49m\u001b[43m*\u001b[49m\u001b[43m*\u001b[49m\u001b[43mkwargs\u001b[49m\u001b[43m)\u001b[49m\n",
      "\u001b[36mFile \u001b[39m\u001b[32m~/work/.venv/lib/python3.12/site-packages/ptyprocess/ptyprocess.py:230\u001b[39m, in \u001b[36mPtyProcess.spawn\u001b[39m\u001b[34m(cls, argv, cwd, env, echo, preexec_fn, dimensions, pass_fds)\u001b[39m\n\u001b[32m    227\u001b[39m exec_err_pipe_read, exec_err_pipe_write = os.pipe()\n\u001b[32m    229\u001b[39m \u001b[38;5;28;01mif\u001b[39;00m use_native_pty_fork:\n\u001b[32m--> \u001b[39m\u001b[32m230\u001b[39m     pid, fd = \u001b[43mpty\u001b[49m\u001b[43m.\u001b[49m\u001b[43mfork\u001b[49m\u001b[43m(\u001b[49m\u001b[43m)\u001b[49m\n\u001b[32m    231\u001b[39m \u001b[38;5;28;01melse\u001b[39;00m:\n\u001b[32m    232\u001b[39m     \u001b[38;5;66;03m# Use internal fork_pty, for Solaris\u001b[39;00m\n\u001b[32m    233\u001b[39m     pid, fd = _fork_pty.fork_pty()\n",
      "\u001b[36mFile \u001b[39m\u001b[32m/opt/conda/lib/python3.12/pty.py:107\u001b[39m, in \u001b[36mfork\u001b[39m\u001b[34m()\u001b[39m\n\u001b[32m    104\u001b[39m             \u001b[38;5;28;01mpass\u001b[39;00m\n\u001b[32m    105\u001b[39m     \u001b[38;5;28;01mreturn\u001b[39;00m pid, fd\n\u001b[32m--> \u001b[39m\u001b[32m107\u001b[39m master_fd, slave_fd = \u001b[43mopenpty\u001b[49m\u001b[43m(\u001b[49m\u001b[43m)\u001b[49m\n\u001b[32m    108\u001b[39m pid = os.fork()\n\u001b[32m    109\u001b[39m \u001b[38;5;28;01mif\u001b[39;00m pid == CHILD:\n",
      "\u001b[36mFile \u001b[39m\u001b[32m/opt/conda/lib/python3.12/pty.py:34\u001b[39m, in \u001b[36mopenpty\u001b[39m\u001b[34m()\u001b[39m\n\u001b[32m     32\u001b[39m \u001b[38;5;28;01mexcept\u001b[39;00m (\u001b[38;5;167;01mAttributeError\u001b[39;00m, \u001b[38;5;167;01mOSError\u001b[39;00m):\n\u001b[32m     33\u001b[39m     \u001b[38;5;28;01mpass\u001b[39;00m\n\u001b[32m---> \u001b[39m\u001b[32m34\u001b[39m master_fd, slave_name = \u001b[43m_open_terminal\u001b[49m\u001b[43m(\u001b[49m\u001b[43m)\u001b[49m\n\u001b[32m     35\u001b[39m slave_fd = slave_open(slave_name)\n\u001b[32m     36\u001b[39m \u001b[38;5;28;01mreturn\u001b[39;00m master_fd, slave_fd\n",
      "\u001b[36mFile \u001b[39m\u001b[32m/opt/conda/lib/python3.12/pty.py:67\u001b[39m, in \u001b[36m_open_terminal\u001b[39m\u001b[34m()\u001b[39m\n\u001b[32m     65\u001b[39m             \u001b[38;5;28;01mcontinue\u001b[39;00m\n\u001b[32m     66\u001b[39m         \u001b[38;5;28;01mreturn\u001b[39;00m (fd, \u001b[33m'\u001b[39m\u001b[33m/dev/tty\u001b[39m\u001b[33m'\u001b[39m + x + y)\n\u001b[32m---> \u001b[39m\u001b[32m67\u001b[39m \u001b[38;5;28;01mraise\u001b[39;00m \u001b[38;5;167;01mOSError\u001b[39;00m(\u001b[33m'\u001b[39m\u001b[33mout of pty devices\u001b[39m\u001b[33m'\u001b[39m)\n",
      "\u001b[31mOSError\u001b[39m: out of pty devices"
     ]
    }
   ],
   "source": [
    "%pip install -e ."
   ]
  },
  {
   "cell_type": "code",
   "execution_count": 3,
   "metadata": {},
   "outputs": [
    {
     "name": "stdout",
     "output_type": "stream",
     "text": [
      "/home/onyxia/work/Generative_Modeling_Project/data\n",
      "Cloning into 'diffusion-posterior-sampling'...\n",
      "remote: Enumerating objects: 82, done.\u001b[K\n",
      "remote: Total 82 (delta 0), reused 0 (delta 0), pack-reused 82 (from 1)\u001b[K\n",
      "Receiving objects: 100% (82/82), 16.19 MiB | 31.63 MiB/s, done.\n",
      "Resolving deltas: 100% (30/30), done.\n",
      "/home/onyxia/work/Generative_Modeling_Project\n",
      "--2025-03-20 22:03:16--  https://www.dropbox.com/scl/fi/pppstbdsf0em6o0qscruc/ffhq256-1k-validation.zip?rlkey=xl7nwv2nxb6yvsirr3wad77hm\n",
      "Resolving www.dropbox.com (www.dropbox.com)... 162.125.69.18, 2620:100:6025:18::a27d:4512\n",
      "Connecting to www.dropbox.com (www.dropbox.com)|162.125.69.18|:443... connected.\n",
      "HTTP request sent, awaiting response... 302 Found\n",
      "Location: https://uc250a1bfe1d928d8d00781843fe.dl.dropboxusercontent.com/cd/0/inline/CmQ9ME7bTjOQE-vv5jM6pjZ5SSkg5c_PNvI6ldv-maObFYKC5RtdUZS627mGvQTrgkRuOuku4x01-Wz8tJw1abfvS1z6VfsHrkU48LcrRo40x3BqLqEcZz7Fpyw-hQRiMk8/file# [following]\n",
      "--2025-03-20 22:03:16--  https://uc250a1bfe1d928d8d00781843fe.dl.dropboxusercontent.com/cd/0/inline/CmQ9ME7bTjOQE-vv5jM6pjZ5SSkg5c_PNvI6ldv-maObFYKC5RtdUZS627mGvQTrgkRuOuku4x01-Wz8tJw1abfvS1z6VfsHrkU48LcrRo40x3BqLqEcZz7Fpyw-hQRiMk8/file\n",
      "Resolving uc250a1bfe1d928d8d00781843fe.dl.dropboxusercontent.com (uc250a1bfe1d928d8d00781843fe.dl.dropboxusercontent.com)... 162.125.69.15, 2620:100:6025:15::a27d:450f\n",
      "Connecting to uc250a1bfe1d928d8d00781843fe.dl.dropboxusercontent.com (uc250a1bfe1d928d8d00781843fe.dl.dropboxusercontent.com)|162.125.69.15|:443... connected.\n",
      "HTTP request sent, awaiting response... 302 Found\n",
      "Location: /cd/0/inline2/CmR5_AZN7fpo_UFtWVdjYCfVhTq-VtUJlHSy1xBtvaXesN7LMvTti4MNC5aZ4F_vXJWgiGxCVoqhZxmdypD9mqFII322_S7ooCWWLFT7nTXt9z-flEDlYracZjD8AYMO9y4mN3Ih7LJn1Tm1svz0Ya-DhfYy6BrN9fexZd4tCTj1Jhf5wm-rlysNNsle5ztJugfcJjUthC5YvhKxc7VuhGj1gRDWSHCKoftuKR_VIWvp9Z_la_EYnzqnwrtofagIhUaKIbvXdsaa1bPg5ZPyO9eqRMCdm012DAhyxNABG5zvXd6ETUsMtNTBqBOlZs6XE71_Di4czTfepMUMX6IrB1_r8v1H9VsWWKXGiBangyIQYQ/file [following]\n",
      "--2025-03-20 22:03:17--  https://uc250a1bfe1d928d8d00781843fe.dl.dropboxusercontent.com/cd/0/inline2/CmR5_AZN7fpo_UFtWVdjYCfVhTq-VtUJlHSy1xBtvaXesN7LMvTti4MNC5aZ4F_vXJWgiGxCVoqhZxmdypD9mqFII322_S7ooCWWLFT7nTXt9z-flEDlYracZjD8AYMO9y4mN3Ih7LJn1Tm1svz0Ya-DhfYy6BrN9fexZd4tCTj1Jhf5wm-rlysNNsle5ztJugfcJjUthC5YvhKxc7VuhGj1gRDWSHCKoftuKR_VIWvp9Z_la_EYnzqnwrtofagIhUaKIbvXdsaa1bPg5ZPyO9eqRMCdm012DAhyxNABG5zvXd6ETUsMtNTBqBOlZs6XE71_Di4czTfepMUMX6IrB1_r8v1H9VsWWKXGiBangyIQYQ/file\n",
      "Reusing existing connection to uc250a1bfe1d928d8d00781843fe.dl.dropboxusercontent.com:443.\n",
      "HTTP request sent, awaiting response... 200 OK\n",
      "Length: 105266320 (100M) [application/zip]\n",
      "Saving to: ‘data/ffhq256-1k-validation.zip’\n",
      "\n",
      "data/ffhq256-1k-val 100%[===================>] 100.39M  31.4MB/s    in 3.2s    \n",
      "\n",
      "2025-03-20 22:03:21 (31.4 MB/s) - ‘data/ffhq256-1k-validation.zip’ saved [105266320/105266320]\n",
      "\n",
      "--2025-03-20 22:03:23--  https://www.dropbox.com/scl/fi/pq72vxzxcbygieq5z4gvf/ffhq_10m.pt?rlkey=5sxdj6r4o9f7b7bbp5fxg2f5r\n",
      "Resolving www.dropbox.com (www.dropbox.com)... 162.125.69.18, 2620:100:6025:18::a27d:4512\n",
      "Connecting to www.dropbox.com (www.dropbox.com)|162.125.69.18|:443... connected.\n",
      "HTTP request sent, awaiting response... 302 Found\n",
      "Location: https://ucacce59585c556ad5203d4b9a80.dl.dropboxusercontent.com/cd/0/inline/CmTtPuQixMTI1mN2o9ezrC6nx_u1Bg6Gkf50GXLlYaOZE2hEU_-lRKqZT0KWzzPW0pwI-CP8vJXSRU0de9I5JAwrVK9bPaUfyGlEjeW2zTPyEh6wSwPm4eXnHm3BPI3EV6c/file# [following]\n",
      "--2025-03-20 22:03:23--  https://ucacce59585c556ad5203d4b9a80.dl.dropboxusercontent.com/cd/0/inline/CmTtPuQixMTI1mN2o9ezrC6nx_u1Bg6Gkf50GXLlYaOZE2hEU_-lRKqZT0KWzzPW0pwI-CP8vJXSRU0de9I5JAwrVK9bPaUfyGlEjeW2zTPyEh6wSwPm4eXnHm3BPI3EV6c/file\n",
      "Resolving ucacce59585c556ad5203d4b9a80.dl.dropboxusercontent.com (ucacce59585c556ad5203d4b9a80.dl.dropboxusercontent.com)... 162.125.69.15, 2620:100:6025:15::a27d:450f\n",
      "Connecting to ucacce59585c556ad5203d4b9a80.dl.dropboxusercontent.com (ucacce59585c556ad5203d4b9a80.dl.dropboxusercontent.com)|162.125.69.15|:443... connected.\n",
      "HTTP request sent, awaiting response... 302 Found\n",
      "Location: /cd/0/inline2/CmQKviwB4kXOf8sH-AfRwwsEX63m-uckHfTVuWyJ7axuLaXiO_5m1HrsmS5lGSzAZta4yG6jqnnlc0J_563v979VvHimbpPl4EVQKpQeGCAPfHmuZgdHjc7A9eQVZGsHknl7qu2KcX5dt_Kt9FtyLP9IVGef5yvspYJIPLoV8dJJsnGj6ttOLg8g6DlYIlKyDblTQQ0i2-zdaNP8GZP4VGnbPfMD2Ca1_J7BJwb0H-gog1ebLtQmn7PUn74x-JN8oRCqOYuUJir_csvKwlbqE1JAZyLASx-bsFxEV3Mw8_YCzaSiBrcVSdMxftmPmSTQxjAK74J0vaAEuXfKXCOGlXXSiZ-ADulXsPMBhOcSClyJIA/file [following]\n",
      "--2025-03-20 22:03:24--  https://ucacce59585c556ad5203d4b9a80.dl.dropboxusercontent.com/cd/0/inline2/CmQKviwB4kXOf8sH-AfRwwsEX63m-uckHfTVuWyJ7axuLaXiO_5m1HrsmS5lGSzAZta4yG6jqnnlc0J_563v979VvHimbpPl4EVQKpQeGCAPfHmuZgdHjc7A9eQVZGsHknl7qu2KcX5dt_Kt9FtyLP9IVGef5yvspYJIPLoV8dJJsnGj6ttOLg8g6DlYIlKyDblTQQ0i2-zdaNP8GZP4VGnbPfMD2Ca1_J7BJwb0H-gog1ebLtQmn7PUn74x-JN8oRCqOYuUJir_csvKwlbqE1JAZyLASx-bsFxEV3Mw8_YCzaSiBrcVSdMxftmPmSTQxjAK74J0vaAEuXfKXCOGlXXSiZ-ADulXsPMBhOcSClyJIA/file\n",
      "Reusing existing connection to ucacce59585c556ad5203d4b9a80.dl.dropboxusercontent.com:443.\n",
      "HTTP request sent, awaiting response... 200 OK\n",
      "Length: 374417833 (357M) [application/octet-stream]\n",
      "Saving to: ‘data/ffhq_10m.pt’\n",
      "\n",
      "data/ffhq_10m.pt    100%[===================>] 357.07M  21.4MB/s    in 17s     \n",
      "\n",
      "2025-03-20 22:03:42 (21.0 MB/s) - ‘data/ffhq_10m.pt’ saved [374417833/374417833]\n",
      "\n"
     ]
    }
   ],
   "source": [
    "%cd data\n",
    "!git clone https://github.com/DPS2022/diffusion-posterior-sampling.git\n",
    "%cd ..\n",
    "!cp -r data/diffusion-posterior-sampling/guided_diffusion data/guided_diffusion\n",
    "!wget -nc -O data/ffhq256-1k-validation.zip 'https://www.dropbox.com/scl/fi/pppstbdsf0em6o0qscruc/ffhq256-1k-validation.zip?rlkey=xl7nwv2nxb6yvsirr3wad77hm'\n",
    "!unzip -nq data/ffhq256-1k-validation.zip -d data/\n",
    "!wget -nc -O data/ffhq_10m.pt 'https://www.dropbox.com/scl/fi/pq72vxzxcbygieq5z4gvf/ffhq_10m.pt?rlkey=5sxdj6r4o9f7b7bbp5fxg2f5r'\n"
   ]
  },
  {
   "cell_type": "code",
   "execution_count": null,
   "metadata": {},
   "outputs": [],
   "source": []
  }
 ],
 "metadata": {
  "kernelspec": {
   "display_name": "Python 3 (ipykernel)",
   "language": "python",
   "name": "python3"
  },
  "language_info": {
   "codemirror_mode": {
    "name": "ipython",
    "version": 3
   },
   "file_extension": ".py",
   "mimetype": "text/x-python",
   "name": "python",
   "nbconvert_exporter": "python",
   "pygments_lexer": "ipython3",
   "version": "3.12.9"
  }
 },
 "nbformat": 4,
 "nbformat_minor": 4
}
