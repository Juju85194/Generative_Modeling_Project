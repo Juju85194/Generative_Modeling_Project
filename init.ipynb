{
 "cells": [
  {
   "cell_type": "code",
   "execution_count": null,
   "metadata": {},
   "outputs": [],
   "source": [
    "# run the 2 commands to instanciate the git"
   ]
  },
  {
   "cell_type": "code",
   "execution_count": null,
   "metadata": {},
   "outputs": [],
   "source": [
    "%pip install -e ."
   ]
  },
  {
   "cell_type": "code",
   "execution_count": 7,
   "metadata": {},
   "outputs": [
    {
     "name": "stdout",
     "output_type": "stream",
     "text": [
      "fatal: destination path 'data/diffusion-posterior-sampling' already exists and is not an empty directory.\n",
      "cp: target 'data/guided_diffusion' is not a directory\n",
      "File ‘data/ffhq256-1k-validation.zip’ already there; not retrieving.\n",
      "File ‘data/ffhq_10m.pt’ already there; not retrieving.\n"
     ]
    }
   ],
   "source": [
    "!cd data\n",
    "!git clone https://github.com/DPS2022/diffusion-posterior-sampling.git data/diffusion-posterior-sampling\n",
    "!cp -r diffusion-posterior-sampling/guided_diffusion guided_diffusion data/guided_diffusion\n",
    "!wget -nc -O data/ffhq256-1k-validation.zip 'https://www.dropbox.com/scl/fi/pppstbdsf0em6o0qscruc/ffhq256-1k-validation.zip?rlkey=xl7nwv2nxb6yvsirr3wad77hm'\n",
    "!unzip -nq data/ffhq256-1k-validation.zip -d data/\n",
    "!wget -nc -O data/ffhq_10m.pt 'https://www.dropbox.com/scl/fi/pq72vxzxcbygieq5z4gvf/ffhq_10m.pt?rlkey=5sxdj6r4o9f7b7bbp5fxg2f5r'\n",
    "!cd .."
   ]
  },
  {
   "cell_type": "code",
   "execution_count": 5,
   "metadata": {},
   "outputs": [
    {
     "name": "stdout",
     "output_type": "stream",
     "text": [
      "/bin/bash: line 1: cwd: command not found\n"
     ]
    }
   ],
   "source": [
    "!cwd"
   ]
  },
  {
   "cell_type": "code",
   "execution_count": 6,
   "metadata": {},
   "outputs": [],
   "source": [
    "!unzip -nq data/ffhq256-1k-validation.zip"
   ]
  }
 ],
 "metadata": {
  "kernelspec": {
   "display_name": ".venv",
   "language": "python",
   "name": "python3"
  },
  "language_info": {
   "codemirror_mode": {
    "name": "ipython",
    "version": 3
   },
   "file_extension": ".py",
   "mimetype": "text/x-python",
   "name": "python",
   "nbconvert_exporter": "python",
   "pygments_lexer": "ipython3",
   "version": "3.12.7"
  }
 },
 "nbformat": 4,
 "nbformat_minor": 2
}
