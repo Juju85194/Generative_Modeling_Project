{
 "cells": [
  {
   "cell_type": "code",
   "execution_count": null,
   "metadata": {},
   "outputs": [
    {
     "name": "stdout",
     "output_type": "stream",
     "text": [
      "Device: cuda:0\n"
     ]
    }
   ],
   "source": [
    "from PIL import Image\n",
    "from src.h_fcn import *\n",
    "from src.utils import init_model\n",
    "from src.eval import evaluate_model\n",
    "from src.utils import display_logs\n",
    "import warnings\n",
    "warnings.filterwarnings(\"ignore\")\n",
    "device = \"cuda:0\" if torch.cuda.is_available() else \"cpu\"\n",
    "print(\"Device:\", device)"
   ]
  },
  {
   "cell_type": "code",
   "execution_count": 13,
   "metadata": {},
   "outputs": [
    {
     "name": "stderr",
     "output_type": "stream",
     "text": [
      "Evaluating Images: 100%|██████████| 3/3 [10:07<00:00, 202.65s/it]\n"
     ]
    }
   ],
   "source": [
    "model = init_model()\n",
    "\n",
    "dataset_path = \"../data/ffhq256-1k-validation\"\n",
    "\n",
    "h_fcn_class = Inpainting\n",
    "\n",
    "out = evaluate_model(model, h_fcn_class, dataset_path, num_images=3,\n",
    "                   num_samples=2, eta=.2, awd=True, show_steps=False,\n",
    "                   steps_viz=200, device=\"cuda\", keep_logs=True)\n",
    "                   # for n diffusion steps = 500 takes about 3 min per img (with gpu)\n",
    "\n",
    "# out is actually a tupple with: [1]: the mean of some metrics\n",
    "#                                [2]: the logs of the model, a tensor dict composed of\n",
    "#                                     [original image, transormation, x_pred1, x_pred2 etc...]"
   ]
  },
  {
   "cell_type": "code",
   "execution_count": null,
   "metadata": {},
   "outputs": [],
   "source": [
    "display_logs(out[-1], \"../figs/inpainting_2.png\")"
   ]
  }
 ],
 "metadata": {
  "kernelspec": {
   "display_name": ".venv",
   "language": "python",
   "name": "python3"
  },
  "language_info": {
   "codemirror_mode": {
    "name": "ipython",
    "version": 3
   },
   "file_extension": ".py",
   "mimetype": "text/x-python",
   "name": "python",
   "nbconvert_exporter": "python",
   "pygments_lexer": "ipython3",
   "version": "3.12.9"
  }
 },
 "nbformat": 4,
 "nbformat_minor": 2
}
